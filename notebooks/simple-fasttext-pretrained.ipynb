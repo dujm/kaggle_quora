{
 "cells": [
  {
   "cell_type": "markdown",
   "metadata": {
    "_cell_guid": "b1076dfc-b9ad-4769-8c92-a6c4dae69d19",
    "_uuid": "8f2839f25d086af736a60e9eeb907d3b93b6e0e5"
   },
   "source": [
    "### Reference \n",
    "https://www.kaggle.com/mabrek/simple-fasttext-pretrained"
   ]
  },
  {
   "cell_type": "code",
   "execution_count": 1,
   "metadata": {
    "_cell_guid": "79c7e3d0-c299-4dcb-8224-4455121ee9b0",
    "_uuid": "d629ff2d2480ee46fbb7e2d37f6b5fab8052498a"
   },
   "outputs": [],
   "source": [
    "import warnings\n",
    "import traceback\n",
    "import sys\n",
    "from datetime import datetime\n",
    "import json\n",
    "\n",
    "import numpy as np\n",
    "import pandas as pd\n",
    "from timeit import default_timer as timer\n",
    "\n",
    "from sklearn.model_selection import KFold\n",
    "from sklearn.metrics import roc_auc_score, log_loss, average_precision_score\n",
    "from sklearn.model_selection import ParameterSampler\n",
    "from scipy.stats import randint as randint\n",
    "from scipy.stats import uniform as uniform\n",
    "from sklearn.utils import check_random_state\n",
    "\n",
    "import fastText"
   ]
  },
  {
   "cell_type": "code",
   "execution_count": 2,
   "metadata": {
    "_uuid": "aa3601c93dd14e69676e998d5ec647155b117bb2"
   },
   "outputs": [],
   "source": [
    "PUNCTS_FASTTEXT = [',', '.', '\"', ':', ')', '(', '-', '!', '?', '|', ';', \"'\", '$', '&', '/', '[', ']', '>', '%', '=', '#', '*', '+', '\\\\', '•',  '~', '@', '£', \n",
    " '·', '{', '}', '©', '^', '®',  '<', '→', '°', '€', '™', '›',  '♥', '←', '×', '§', '″', '′', 'Â', '█', '½', 'à', '…', \n",
    " '“', '★', '”', '–', '●', 'â', '►', '−', '¢', '²', '¬', '░', '¶', '↑', '±', '¿', '═', '¦', '║', '―', '¥', '▓', '—', '‹', '─', \n",
    " '▒', '：', '¼', '⊕', '▼', '▪', '†', '■', '’', '▀', '¨', '▄', '♫', '☆', 'é', '¯', '♦', '¤', '▲', 'è', '¸', '¾', 'Ã', '⋅', '‘', '∞', \n",
    " '∙', '）', '↓', '、', '│', '（', '»', '，', '♪', '╩', '╚', '³', '・', '╦', '╣', '╔', '╗', '▬', '❤', 'ï', 'Ø', '¹', '≤', '‡', '√', ]\n",
    "\n",
    "\n",
    "def clean_fasttext(x):\n",
    "    x = str(x)\n",
    "    for punct in PUNCTS_FASTTEXT:\n",
    "        x = x.replace(punct, f' {punct} ')\n",
    "    return x\n"
   ]
  },
  {
   "cell_type": "code",
   "execution_count": 3,
   "metadata": {
    "_uuid": "0f2d652e6e7393800da3bcc36fa29ea740f8315c"
   },
   "outputs": [],
   "source": [
    "def predict_fasttext_single(model, x):\n",
    "    labels, probs = model.predict(x, 2)\n",
    "    if labels[0] == '__label__1':\n",
    "        return probs[0]\n",
    "    else:\n",
    "        return probs[1]\n",
    "\n",
    "\n",
    "def predict_fasttext(model, df):\n",
    "    return df.cleaned_text.apply(lambda x: predict_fasttext_single(model, x))\n",
    "\n",
    "\n",
    "# from https://www.kaggle.com/c/quora-insincere-questions-classification/discussion/76391\n",
    "def scoring(y_true, y_proba, verbose=True):\n",
    "    from sklearn.metrics import roc_curve, precision_recall_curve, f1_score\n",
    "    from sklearn.model_selection import RepeatedStratifiedKFold\n",
    "\n",
    "    def threshold_search(y_true, y_proba):\n",
    "        precision , recall, thresholds = precision_recall_curve(y_true, y_proba)\n",
    "        thresholds = np.append(thresholds, 1.001) \n",
    "        F = 2 / (1/precision + 1/recall)\n",
    "        best_score = np.max(F)\n",
    "        best_th = thresholds[np.argmax(F)]\n",
    "        return best_th \n",
    "\n",
    "\n",
    "    rkf = RepeatedStratifiedKFold(n_splits=5, n_repeats=10)\n",
    "\n",
    "    scores = []\n",
    "    ths = []\n",
    "    for train_index, test_index in rkf.split(y_true, y_true):\n",
    "        y_prob_train, y_prob_test = y_proba[train_index], y_proba[test_index]\n",
    "        y_true_train, y_true_test = y_true[train_index], y_true[test_index]\n",
    "\n",
    "        # determine best threshold on 'train' part \n",
    "        best_threshold = threshold_search(y_true_train, y_prob_train)\n",
    "\n",
    "        # use this threshold on 'test' part for score \n",
    "        sc = f1_score(y_true_test, (y_prob_test >= best_threshold).astype(int))\n",
    "        scores.append(sc)\n",
    "        ths.append(best_threshold)\n",
    "\n",
    "    best_th = np.mean(ths)\n",
    "    score = np.mean(scores)\n",
    "\n",
    "    if verbose: print(f'Best threshold: {np.round(best_th, 4)}, Score: {np.round(score,5)}')\n",
    "\n",
    "    return best_th, score"
   ]
  },
  {
   "cell_type": "code",
   "execution_count": 4,
   "metadata": {
    "_uuid": "f268f9c96514521ecb0a03cc848707cc07dd9696"
   },
   "outputs": [],
   "source": [
    "!mkdir -p ../tmp"
   ]
  },
  {
   "cell_type": "code",
   "execution_count": 5,
   "metadata": {
    "_uuid": "8bc80f867fd758cd7e9ca464ee63a20ba9e718f4"
   },
   "outputs": [],
   "source": [
    "train = pd.read_csv(\"../input/train.csv\").sample(frac=1, random_state=3465).reset_index(drop=True)\n",
    "\n",
    "train['cleaned_text'] = train[\"question_text\"].apply(lambda x: clean_fasttext(x)).str.replace('\\n', ' ')\n",
    "fasttext_labeled = '__label__' + train.target.astype(str) + ' ' + train.cleaned_text\n",
    "\n",
    "np.savetxt('../tmp/train.txt', fasttext_labeled.values, fmt='%s')\n",
    "\n",
    "\n",
    "test = pd.read_csv(\"../input/test.csv\", index_col='qid')\n",
    "test['cleaned_text'] = test[\"question_text\"].apply(lambda x: clean_fasttext(x)).str.replace('\\n', ' ')"
   ]
  },
  {
   "cell_type": "code",
   "execution_count": 6,
   "metadata": {
    "_uuid": "89b9518252e6df159632da0bf14b0aab8d5988aa"
   },
   "outputs": [],
   "source": [
    "parameters = {\n",
    "        'lr': 0.161195,\n",
    "        'dim': 300,\n",
    "        'ws': 5,\n",
    "        'epoch': 10,\n",
    "        'minCount': 80,\n",
    "        'minCountLabel': 0,\n",
    "        'minn': 4,\n",
    "        'maxn': 5,\n",
    "        'neg': 5,\n",
    "        'wordNgrams': 3,\n",
    "        'loss': \"hs\",\n",
    "        'bucket': 2000000,\n",
    "        'thread': 4,\n",
    "        'lrUpdateRate': 100,\n",
    "        't': 1e-4,\n",
    "        'pretrainedVectors': '../input/embeddings/wiki-news-300d-1M/wiki-news-300d-1M.vec',\n",
    "        'verbose': 0\n",
    "    }"
   ]
  },
  {
   "cell_type": "code",
   "execution_count": 7,
   "metadata": {
    "_uuid": "619af4cc00c03793f1462a17828933c3f3889b3b"
   },
   "outputs": [],
   "source": [
    "model = fastText.train_supervised(input='../tmp/train.txt', **parameters)"
   ]
  },
  {
   "cell_type": "code",
   "execution_count": 8,
   "metadata": {
    "_uuid": "7b6e4617d29582d312bcea09a0af4778203a1014"
   },
   "outputs": [],
   "source": [
    "train_pred = predict_fasttext(model, train)\n",
    "test_pred = predict_fasttext(model, test)"
   ]
  },
  {
   "cell_type": "code",
   "execution_count": 9,
   "metadata": {
    "_uuid": "bf732b49796f95ff08021d42100352c51618133b"
   },
   "outputs": [
    {
     "name": "stderr",
     "output_type": "stream",
     "text": [
      "/opt/conda/lib/python3.6/site-packages/ipykernel_launcher.py:21: RuntimeWarning: divide by zero encountered in true_divide\n",
      "/opt/conda/lib/python3.6/site-packages/ipykernel_launcher.py:21: RuntimeWarning: divide by zero encountered in true_divide\n",
      "/opt/conda/lib/python3.6/site-packages/ipykernel_launcher.py:21: RuntimeWarning: divide by zero encountered in true_divide\n",
      "/opt/conda/lib/python3.6/site-packages/ipykernel_launcher.py:21: RuntimeWarning: divide by zero encountered in true_divide\n",
      "/opt/conda/lib/python3.6/site-packages/ipykernel_launcher.py:21: RuntimeWarning: divide by zero encountered in true_divide\n",
      "/opt/conda/lib/python3.6/site-packages/ipykernel_launcher.py:21: RuntimeWarning: divide by zero encountered in true_divide\n",
      "/opt/conda/lib/python3.6/site-packages/ipykernel_launcher.py:21: RuntimeWarning: divide by zero encountered in true_divide\n",
      "/opt/conda/lib/python3.6/site-packages/ipykernel_launcher.py:21: RuntimeWarning: divide by zero encountered in true_divide\n",
      "/opt/conda/lib/python3.6/site-packages/ipykernel_launcher.py:21: RuntimeWarning: divide by zero encountered in true_divide\n",
      "/opt/conda/lib/python3.6/site-packages/ipykernel_launcher.py:21: RuntimeWarning: divide by zero encountered in true_divide\n"
     ]
    }
   ],
   "source": [
    "best_th, f1 = scoring(train.target, train_pred, verbose=False)"
   ]
  },
  {
   "cell_type": "code",
   "execution_count": 10,
   "metadata": {
    "_uuid": "bdb6e9f92f3d2991b63ed550d493e4f1e0d04890"
   },
   "outputs": [
    {
     "data": {
      "text/plain": [
       "(0.40829826772212985, 0.9345048800263016)"
      ]
     },
     "execution_count": 10,
     "metadata": {},
     "output_type": "execute_result"
    }
   ],
   "source": [
    "best_th, f1"
   ]
  },
  {
   "cell_type": "code",
   "execution_count": 11,
   "metadata": {
    "_uuid": "06a582fe376be94b22f363a2a114fa7d7ad60a6a"
   },
   "outputs": [],
   "source": [
    "pred = (test_pred > best_th).astype('int').rename('prediction')"
   ]
  },
  {
   "cell_type": "code",
   "execution_count": 12,
   "metadata": {
    "_uuid": "98f7823e657b30a1522805886b390abab77e9aa6"
   },
   "outputs": [],
   "source": [
    "pd.DataFrame(pred).to_csv('submission.csv')"
   ]
  },
  {
   "cell_type": "code",
   "execution_count": 13,
   "metadata": {
    "_uuid": "e46bb64de82fc675e25b1bce8d14e7f32a4ce482"
   },
   "outputs": [],
   "source": []
  },
  {
   "cell_type": "code",
   "execution_count": 13,
   "metadata": {
    "_uuid": "9e3ba5c942b7c78f16d8caf7aa48b85bb2dc7090"
   },
   "outputs": [],
   "source": []
  }
 ],
 "metadata": {
  "kernelspec": {
   "display_name": "Python 3",
   "language": "python",
   "name": "python3"
  },
  "language_info": {
   "codemirror_mode": {
    "name": "ipython",
    "version": 3
   },
   "file_extension": ".py",
   "mimetype": "text/x-python",
   "name": "python",
   "nbconvert_exporter": "python",
   "pygments_lexer": "ipython3",
   "version": "3.6.6"
  }
 },
 "nbformat": 4,
 "nbformat_minor": 1
}
